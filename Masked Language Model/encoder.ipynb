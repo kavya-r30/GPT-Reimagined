{
 "cells": [
  {
   "cell_type": "code",
   "execution_count": 1,
   "id": "571918ba",
   "metadata": {
    "execution": {
     "iopub.execute_input": "2024-08-26T18:35:40.627673Z",
     "iopub.status.busy": "2024-08-26T18:35:40.627267Z",
     "iopub.status.idle": "2024-08-26T18:35:44.153188Z",
     "shell.execute_reply": "2024-08-26T18:35:44.152232Z"
    },
    "executionInfo": {
     "elapsed": 667,
     "status": "ok",
     "timestamp": 1724596281304,
     "user": {
      "displayName": "Abhay Upadhyay",
      "userId": "14874663307080467382"
     },
     "user_tz": -330
    },
    "id": "0kZMKJsniiOu",
    "papermill": {
     "duration": 3.540806,
     "end_time": "2024-08-26T18:35:44.155830",
     "exception": false,
     "start_time": "2024-08-26T18:35:40.615024",
     "status": "completed"
    },
    "tags": []
   },
   "outputs": [],
   "source": [
    "import torch\n",
    "import numpy as np\n",
    "import matplotlib.pyplot as plt\n",
    "import torch.nn as nn"
   ]
  },
  {
   "cell_type": "code",
   "execution_count": 2,
   "id": "b038ca2d",
   "metadata": {
    "execution": {
     "iopub.execute_input": "2024-08-26T18:35:44.189583Z",
     "iopub.status.busy": "2024-08-26T18:35:44.188316Z",
     "iopub.status.idle": "2024-08-26T18:36:00.496395Z",
     "shell.execute_reply": "2024-08-26T18:36:00.495277Z"
    },
    "executionInfo": {
     "elapsed": 2287,
     "status": "ok",
     "timestamp": 1724596284343,
     "user": {
      "displayName": "Abhay Upadhyay",
      "userId": "14874663307080467382"
     },
     "user_tz": -330
    },
    "id": "Nt2v9fSnmT2Q",
    "outputId": "d82743b0-4fc5-4833-eb1d-ea3be24db1d6",
    "papermill": {
     "duration": 16.326511,
     "end_time": "2024-08-26T18:36:00.499290",
     "exception": false,
     "start_time": "2024-08-26T18:35:44.172779",
     "status": "completed"
    },
    "tags": []
   },
   "outputs": [
    {
     "name": "stdout",
     "output_type": "stream",
     "text": [
      "Collecting tiktoken\r\n",
      "  Downloading tiktoken-0.7.0-cp310-cp310-manylinux_2_17_x86_64.manylinux2014_x86_64.whl.metadata (6.6 kB)\r\n",
      "Requirement already satisfied: regex>=2022.1.18 in /opt/conda/lib/python3.10/site-packages (from tiktoken) (2024.5.15)\r\n",
      "Requirement already satisfied: requests>=2.26.0 in /opt/conda/lib/python3.10/site-packages (from tiktoken) (2.32.3)\r\n",
      "Requirement already satisfied: charset-normalizer<4,>=2 in /opt/conda/lib/python3.10/site-packages (from requests>=2.26.0->tiktoken) (3.3.2)\r\n",
      "Requirement already satisfied: idna<4,>=2.5 in /opt/conda/lib/python3.10/site-packages (from requests>=2.26.0->tiktoken) (3.7)\r\n",
      "Requirement already satisfied: urllib3<3,>=1.21.1 in /opt/conda/lib/python3.10/site-packages (from requests>=2.26.0->tiktoken) (1.26.18)\r\n",
      "Requirement already satisfied: certifi>=2017.4.17 in /opt/conda/lib/python3.10/site-packages (from requests>=2.26.0->tiktoken) (2024.7.4)\r\n",
      "Downloading tiktoken-0.7.0-cp310-cp310-manylinux_2_17_x86_64.manylinux2014_x86_64.whl (1.1 MB)\r\n",
      "\u001b[2K   \u001b[90m━━━━━━━━━━━━━━━━━━━━━━━━━━━━━━━━━━━━━━━━\u001b[0m \u001b[32m1.1/1.1 MB\u001b[0m \u001b[31m14.2 MB/s\u001b[0m eta \u001b[36m0:00:00\u001b[0m\r\n",
      "\u001b[?25hInstalling collected packages: tiktoken\r\n",
      "Successfully installed tiktoken-0.7.0\r\n"
     ]
    }
   ],
   "source": [
    "!pip install tiktoken"
   ]
  },
  {
   "cell_type": "code",
   "execution_count": 3,
   "id": "b85c123f",
   "metadata": {
    "execution": {
     "iopub.execute_input": "2024-08-26T18:36:00.524198Z",
     "iopub.status.busy": "2024-08-26T18:36:00.523730Z",
     "iopub.status.idle": "2024-08-26T18:36:00.593111Z",
     "shell.execute_reply": "2024-08-26T18:36:00.591956Z"
    },
    "executionInfo": {
     "elapsed": 15,
     "status": "ok",
     "timestamp": 1724596284343,
     "user": {
      "displayName": "Abhay Upadhyay",
      "userId": "14874663307080467382"
     },
     "user_tz": -330
    },
    "id": "RzgblNgcQKmS",
    "outputId": "abbe9b31-b6b6-49fa-ff6f-7a382dbe08e2",
    "papermill": {
     "duration": 0.084895,
     "end_time": "2024-08-26T18:36:00.595537",
     "exception": false,
     "start_time": "2024-08-26T18:36:00.510642",
     "status": "completed"
    },
    "tags": []
   },
   "outputs": [
    {
     "data": {
      "text/plain": [
       "'cuda'"
      ]
     },
     "execution_count": 3,
     "metadata": {},
     "output_type": "execute_result"
    }
   ],
   "source": [
    "device = 'cuda' if torch.cuda.is_available() else 'cpu'\n",
    "device"
   ]
  },
  {
   "cell_type": "code",
   "execution_count": 4,
   "id": "97c46e45",
   "metadata": {
    "execution": {
     "iopub.execute_input": "2024-08-26T18:36:00.621377Z",
     "iopub.status.busy": "2024-08-26T18:36:00.620930Z",
     "iopub.status.idle": "2024-08-26T18:36:02.500189Z",
     "shell.execute_reply": "2024-08-26T18:36:02.498952Z"
    },
    "executionInfo": {
     "elapsed": 14,
     "status": "ok",
     "timestamp": 1724596284343,
     "user": {
      "displayName": "Abhay Upadhyay",
      "userId": "14874663307080467382"
     },
     "user_tz": -330
    },
    "id": "dyshzch_mQPD",
    "outputId": "cd2280cb-443f-4fed-bc58-1a6f06e5f4c2",
    "papermill": {
     "duration": 1.894945,
     "end_time": "2024-08-26T18:36:02.502561",
     "exception": false,
     "start_time": "2024-08-26T18:36:00.607616",
     "status": "completed"
    },
    "tags": []
   },
   "outputs": [
    {
     "name": "stdout",
     "output_type": "stream",
     "text": [
      "Tokens: [15496, 11, 703, 389, 345, 30]\n",
      "Decoded text: Hello, how are you?\n"
     ]
    }
   ],
   "source": [
    "import tiktoken\n",
    "\n",
    "encoding = tiktoken.get_encoding(\"gpt2\")\n",
    "\n",
    "text = \"Hello, how are you?\"\n",
    "tokens = encoding.encode(text)\n",
    "print(\"Tokens:\", tokens)\n",
    "\n",
    "decoded_text = encoding.decode(tokens)\n",
    "print(\"Decoded text:\", decoded_text)\n"
   ]
  },
  {
   "cell_type": "code",
   "execution_count": 5,
   "id": "bbf9fd80",
   "metadata": {
    "execution": {
     "iopub.execute_input": "2024-08-26T18:36:02.525336Z",
     "iopub.status.busy": "2024-08-26T18:36:02.524973Z",
     "iopub.status.idle": "2024-08-26T18:36:02.529806Z",
     "shell.execute_reply": "2024-08-26T18:36:02.528939Z"
    },
    "executionInfo": {
     "elapsed": 13,
     "status": "ok",
     "timestamp": 1724596284343,
     "user": {
      "displayName": "Abhay Upadhyay",
      "userId": "14874663307080467382"
     },
     "user_tz": -330
    },
    "id": "2vIYjJ2Mlrjg",
    "papermill": {
     "duration": 0.018756,
     "end_time": "2024-08-26T18:36:02.532043",
     "exception": false,
     "start_time": "2024-08-26T18:36:02.513287",
     "status": "completed"
    },
    "tags": []
   },
   "outputs": [],
   "source": [
    "encoding = tiktoken.get_encoding('gpt2')\n",
    "def encode(X):\n",
    "  return encoding.encode(X)"
   ]
  },
  {
   "cell_type": "code",
   "execution_count": 6,
   "id": "168cae5d",
   "metadata": {
    "execution": {
     "iopub.execute_input": "2024-08-26T18:36:02.556516Z",
     "iopub.status.busy": "2024-08-26T18:36:02.556119Z",
     "iopub.status.idle": "2024-08-26T18:36:02.564696Z",
     "shell.execute_reply": "2024-08-26T18:36:02.563627Z"
    },
    "executionInfo": {
     "elapsed": 12,
     "status": "ok",
     "timestamp": 1724596284343,
     "user": {
      "displayName": "Abhay Upadhyay",
      "userId": "14874663307080467382"
     },
     "user_tz": -330
    },
    "id": "51xJ-pcIk3CU",
    "papermill": {
     "duration": 0.0234,
     "end_time": "2024-08-26T18:36:02.566887",
     "exception": false,
     "start_time": "2024-08-26T18:36:02.543487",
     "status": "completed"
    },
    "tags": []
   },
   "outputs": [],
   "source": [
    "class Head(nn.Module):\n",
    "  def __init__(self,head_size,n_embd):\n",
    "    super().__init__()\n",
    "    self.key = nn.Linear(n_embd,head_size,bias=False,device=device)\n",
    "    self.query = nn.Linear(n_embd,head_size,bias=False,device=device)\n",
    "    self.value = nn.Linear(n_embd,head_size,bias=False,device=device)\n",
    "  def forward(self,x):\n",
    "    B,T,C = x.shape\n",
    "    k = self.key(x)\n",
    "    q = self.query(x)\n",
    "    v = self.value(x)\n",
    "\n",
    "    wei = q @ k.transpose(1,2) * k.shape[1]**-0.5 # B,T,T\n",
    "    wei = nn.functional.softmax(wei,dim=-1)\n",
    "    wei = wei @ v\n",
    "    return wei"
   ]
  },
  {
   "cell_type": "code",
   "execution_count": 7,
   "id": "2ea27ea7",
   "metadata": {
    "execution": {
     "iopub.execute_input": "2024-08-26T18:36:02.590622Z",
     "iopub.status.busy": "2024-08-26T18:36:02.590257Z",
     "iopub.status.idle": "2024-08-26T18:36:02.597106Z",
     "shell.execute_reply": "2024-08-26T18:36:02.596080Z"
    },
    "executionInfo": {
     "elapsed": 12,
     "status": "ok",
     "timestamp": 1724596284343,
     "user": {
      "displayName": "Abhay Upadhyay",
      "userId": "14874663307080467382"
     },
     "user_tz": -330
    },
    "id": "gAsxEe7vk6yX",
    "papermill": {
     "duration": 0.02138,
     "end_time": "2024-08-26T18:36:02.599346",
     "exception": false,
     "start_time": "2024-08-26T18:36:02.577966",
     "status": "completed"
    },
    "tags": []
   },
   "outputs": [],
   "source": [
    "class MultiHeadAttention(nn.Module):\n",
    "  def __init__(self,n_embd,n_head):\n",
    "    super().__init__()\n",
    "    head_size = n_embd//n_head\n",
    "    self.heads = nn.ModuleList([Head(head_size,n_embd) for _ in range(n_head)])\n",
    "    self.proj = nn.Linear(head_size*n_head,n_embd,device=device)\n",
    "  def forward(self,x):\n",
    "    return torch.cat([h(x) for h in self.heads],dim=-1)"
   ]
  },
  {
   "cell_type": "code",
   "execution_count": 8,
   "id": "a59aafca",
   "metadata": {
    "execution": {
     "iopub.execute_input": "2024-08-26T18:36:02.622641Z",
     "iopub.status.busy": "2024-08-26T18:36:02.622323Z",
     "iopub.status.idle": "2024-08-26T18:36:02.628862Z",
     "shell.execute_reply": "2024-08-26T18:36:02.627971Z"
    },
    "executionInfo": {
     "elapsed": 12,
     "status": "ok",
     "timestamp": 1724596284343,
     "user": {
      "displayName": "Abhay Upadhyay",
      "userId": "14874663307080467382"
     },
     "user_tz": -330
    },
    "id": "C3ChSCCYqZig",
    "papermill": {
     "duration": 0.020952,
     "end_time": "2024-08-26T18:36:02.631129",
     "exception": false,
     "start_time": "2024-08-26T18:36:02.610177",
     "status": "completed"
    },
    "tags": []
   },
   "outputs": [],
   "source": [
    "class FeedForward(nn.Module):\n",
    "  def __init__(self,n_embd):\n",
    "    super().__init__()\n",
    "    nn.layers = nn.Sequential(\n",
    "        nn.Linear(n_embd,32*n_embd,device=device),\n",
    "        nn.ReLU(),\n",
    "        nn.Linear(32*n_embd,32*n_embd,device=device),\n",
    "        nn.ReLU(),\n",
    "        nn.Linear(32*n_embd,n_embd,device=device)\n",
    "    )\n",
    "  def forward(self,x):\n",
    "    return nn.layers(x)"
   ]
  },
  {
   "cell_type": "code",
   "execution_count": 9,
   "id": "1358fde1",
   "metadata": {
    "execution": {
     "iopub.execute_input": "2024-08-26T18:36:02.655475Z",
     "iopub.status.busy": "2024-08-26T18:36:02.654543Z",
     "iopub.status.idle": "2024-08-26T18:36:02.662043Z",
     "shell.execute_reply": "2024-08-26T18:36:02.660959Z"
    },
    "executionInfo": {
     "elapsed": 12,
     "status": "ok",
     "timestamp": 1724596284343,
     "user": {
      "displayName": "Abhay Upadhyay",
      "userId": "14874663307080467382"
     },
     "user_tz": -330
    },
    "id": "6sx8KepHqzbf",
    "papermill": {
     "duration": 0.022058,
     "end_time": "2024-08-26T18:36:02.664247",
     "exception": false,
     "start_time": "2024-08-26T18:36:02.642189",
     "status": "completed"
    },
    "tags": []
   },
   "outputs": [],
   "source": [
    "class Block(nn.Module):\n",
    "  def __init__(self,n_embd,n_head):\n",
    "    super().__init__()\n",
    "    self.attention = MultiHeadAttention(n_embd,n_head)\n",
    "    self.ffwd = FeedForward(n_embd)\n",
    "    self.norm1 = nn.LayerNorm(n_embd,device=device)\n",
    "    self.norm2 = nn.LayerNorm(n_embd,device=device)\n",
    "  def forward(self,x):\n",
    "    x = x+self.attention(self.norm1(x))\n",
    "    x = x+self.ffwd(self.norm2(x))\n",
    "    return x"
   ]
  },
  {
   "cell_type": "code",
   "execution_count": 10,
   "id": "f7eacf6a",
   "metadata": {
    "execution": {
     "iopub.execute_input": "2024-08-26T18:36:02.688864Z",
     "iopub.status.busy": "2024-08-26T18:36:02.687873Z",
     "iopub.status.idle": "2024-08-26T18:36:02.694674Z",
     "shell.execute_reply": "2024-08-26T18:36:02.693842Z"
    },
    "executionInfo": {
     "elapsed": 13,
     "status": "ok",
     "timestamp": 1724596284344,
     "user": {
      "displayName": "Abhay Upadhyay",
      "userId": "14874663307080467382"
     },
     "user_tz": -330
    },
    "id": "jC3VxXapGOUS",
    "outputId": "a22b0ba9-c083-43cc-a23e-97f4184a81ad",
    "papermill": {
     "duration": 0.021579,
     "end_time": "2024-08-26T18:36:02.696998",
     "exception": false,
     "start_time": "2024-08-26T18:36:02.675419",
     "status": "completed"
    },
    "tags": []
   },
   "outputs": [
    {
     "data": {
      "text/plain": [
       "50257"
      ]
     },
     "execution_count": 10,
     "metadata": {},
     "output_type": "execute_result"
    }
   ],
   "source": [
    "encoding.n_vocab"
   ]
  },
  {
   "cell_type": "code",
   "execution_count": 11,
   "id": "aa0cd4e6",
   "metadata": {
    "execution": {
     "iopub.execute_input": "2024-08-26T18:36:02.721863Z",
     "iopub.status.busy": "2024-08-26T18:36:02.720887Z",
     "iopub.status.idle": "2024-08-26T18:36:02.726419Z",
     "shell.execute_reply": "2024-08-26T18:36:02.725477Z"
    },
    "executionInfo": {
     "elapsed": 764,
     "status": "ok",
     "timestamp": 1724596398635,
     "user": {
      "displayName": "Abhay Upadhyay",
      "userId": "14874663307080467382"
     },
     "user_tz": -330
    },
    "id": "9SudYOWgIdqQ",
    "papermill": {
     "duration": 0.020243,
     "end_time": "2024-08-26T18:36:02.728557",
     "exception": false,
     "start_time": "2024-08-26T18:36:02.708314",
     "status": "completed"
    },
    "tags": []
   },
   "outputs": [],
   "source": [
    "mask_token = 50257\n",
    "vocab_size = 50258\n",
    "n_embd = 256\n",
    "batch_size = 256\n",
    "block_size = 64\n",
    "lr = 1e-3\n",
    "n_head = 8\n",
    "n_blocks = 4\n",
    "eval_interval = 500\n",
    "max_iters = 5000\n",
    "mask_prob = 0.15"
   ]
  },
  {
   "cell_type": "code",
   "execution_count": 12,
   "id": "a2378762",
   "metadata": {
    "execution": {
     "iopub.execute_input": "2024-08-26T18:36:02.753006Z",
     "iopub.status.busy": "2024-08-26T18:36:02.752081Z",
     "iopub.status.idle": "2024-08-26T18:36:05.620394Z",
     "shell.execute_reply": "2024-08-26T18:36:05.619266Z"
    },
    "executionInfo": {
     "elapsed": 1750,
     "status": "ok",
     "timestamp": 1724596326662,
     "user": {
      "displayName": "Abhay Upadhyay",
      "userId": "14874663307080467382"
     },
     "user_tz": -330
    },
    "id": "n1HpL7ycKGIL",
    "papermill": {
     "duration": 2.883601,
     "end_time": "2024-08-26T18:36:05.623107",
     "exception": false,
     "start_time": "2024-08-26T18:36:02.739506",
     "status": "completed"
    },
    "tags": []
   },
   "outputs": [],
   "source": [
    "with open('/kaggle/input/textdata/textdata.txt', 'r', encoding='utf-8') as f:\n",
    "    text = f.read()"
   ]
  },
  {
   "cell_type": "code",
   "execution_count": 13,
   "id": "07eec91f",
   "metadata": {
    "execution": {
     "iopub.execute_input": "2024-08-26T18:36:05.648479Z",
     "iopub.status.busy": "2024-08-26T18:36:05.647698Z",
     "iopub.status.idle": "2024-08-26T18:36:05.654185Z",
     "shell.execute_reply": "2024-08-26T18:36:05.653212Z"
    },
    "executionInfo": {
     "elapsed": 5,
     "status": "ok",
     "timestamp": 1724596327263,
     "user": {
      "displayName": "Abhay Upadhyay",
      "userId": "14874663307080467382"
     },
     "user_tz": -330
    },
    "id": "rU3iSj7pLv5A",
    "outputId": "57436db2-fc61-4dd6-a9bb-f70923a76b8a",
    "papermill": {
     "duration": 0.021173,
     "end_time": "2024-08-26T18:36:05.656243",
     "exception": false,
     "start_time": "2024-08-26T18:36:05.635070",
     "status": "completed"
    },
    "tags": []
   },
   "outputs": [
    {
     "data": {
      "text/plain": [
       "156049167"
      ]
     },
     "execution_count": 13,
     "metadata": {},
     "output_type": "execute_result"
    }
   ],
   "source": [
    "len(text)"
   ]
  },
  {
   "cell_type": "code",
   "execution_count": 14,
   "id": "8d9ec257",
   "metadata": {
    "execution": {
     "iopub.execute_input": "2024-08-26T18:36:05.680239Z",
     "iopub.status.busy": "2024-08-26T18:36:05.679580Z",
     "iopub.status.idle": "2024-08-26T18:36:05.685819Z",
     "shell.execute_reply": "2024-08-26T18:36:05.684846Z"
    },
    "executionInfo": {
     "elapsed": 4,
     "status": "ok",
     "timestamp": 1724596328084,
     "user": {
      "displayName": "Abhay Upadhyay",
      "userId": "14874663307080467382"
     },
     "user_tz": -330
    },
    "id": "OaHJUnTHMRvs",
    "outputId": "c4354df3-7c79-4cf6-d7b9-4bde26f12818",
    "papermill": {
     "duration": 0.02047,
     "end_time": "2024-08-26T18:36:05.687851",
     "exception": false,
     "start_time": "2024-08-26T18:36:05.667381",
     "status": "completed"
    },
    "tags": []
   },
   "outputs": [
    {
     "data": {
      "text/plain": [
       "[198]"
      ]
     },
     "execution_count": 14,
     "metadata": {},
     "output_type": "execute_result"
    }
   ],
   "source": [
    "encode('\\n')"
   ]
  },
  {
   "cell_type": "code",
   "execution_count": 15,
   "id": "905ac0e8",
   "metadata": {
    "execution": {
     "iopub.execute_input": "2024-08-26T18:36:05.711147Z",
     "iopub.status.busy": "2024-08-26T18:36:05.710795Z",
     "iopub.status.idle": "2024-08-26T18:36:51.334123Z",
     "shell.execute_reply": "2024-08-26T18:36:51.332961Z"
    },
    "executionInfo": {
     "elapsed": 29890,
     "status": "ok",
     "timestamp": 1724596358752,
     "user": {
      "displayName": "Abhay Upadhyay",
      "userId": "14874663307080467382"
     },
     "user_tz": -330
    },
    "id": "7X9Mu8WsL96t",
    "papermill": {
     "duration": 45.638161,
     "end_time": "2024-08-26T18:36:51.336962",
     "exception": false,
     "start_time": "2024-08-26T18:36:05.698801",
     "status": "completed"
    },
    "tags": []
   },
   "outputs": [],
   "source": [
    "data = torch.tensor(encode(text), dtype=torch.long,device=device)\n",
    "n = int(0.9*len(data))\n",
    "train_data = data[:n]\n",
    "val_data = data[n:]\n",
    "def get_batch(splittype):\n",
    "    data = val_data\n",
    "    if(splittype=='train'):\n",
    "        data = train_data\n",
    "    ix = torch.randint(len(data)-block_size,(batch_size,),device=device)\n",
    "    x = torch.stack([data[i:i+block_size] for i in ix])\n",
    "    return x"
   ]
  },
  {
   "cell_type": "code",
   "execution_count": 16,
   "id": "e9e1d790",
   "metadata": {
    "execution": {
     "iopub.execute_input": "2024-08-26T18:36:51.363305Z",
     "iopub.status.busy": "2024-08-26T18:36:51.362512Z",
     "iopub.status.idle": "2024-08-26T18:36:51.369678Z",
     "shell.execute_reply": "2024-08-26T18:36:51.368607Z"
    },
    "executionInfo": {
     "elapsed": 18,
     "status": "ok",
     "timestamp": 1724596358753,
     "user": {
      "displayName": "Abhay Upadhyay",
      "userId": "14874663307080467382"
     },
     "user_tz": -330
    },
    "id": "OUlTpCsEOKr6",
    "papermill": {
     "duration": 0.022677,
     "end_time": "2024-08-26T18:36:51.372031",
     "exception": false,
     "start_time": "2024-08-26T18:36:51.349354",
     "status": "completed"
    },
    "tags": []
   },
   "outputs": [],
   "source": [
    "def mask(x,prob): # x is tokens tensor B,T sized\n",
    "  probs = torch.zeros(x.shape[0],x.shape[1],2,device=device)\n",
    "  probs[:,:,0] = prob\n",
    "  probs[:,:,1] = 1-prob\n",
    "  probs = torch.multinomial(probs.view(-1,2),num_samples=1).squeeze(dim=-1)\n",
    "  probs = probs.view(x.shape[0],x.shape[1])\n",
    "  x[probs==0] = mask_token\n",
    "  # print(torch.max(x),torch.min(x))\n",
    "  return x"
   ]
  },
  {
   "cell_type": "code",
   "execution_count": 17,
   "id": "fcf9fd91",
   "metadata": {
    "execution": {
     "iopub.execute_input": "2024-08-26T18:36:51.397467Z",
     "iopub.status.busy": "2024-08-26T18:36:51.397016Z",
     "iopub.status.idle": "2024-08-26T18:36:51.405228Z",
     "shell.execute_reply": "2024-08-26T18:36:51.404116Z"
    },
    "executionInfo": {
     "elapsed": 17,
     "status": "ok",
     "timestamp": 1724596358753,
     "user": {
      "displayName": "Abhay Upadhyay",
      "userId": "14874663307080467382"
     },
     "user_tz": -330
    },
    "id": "sfLZv7a0PKlF",
    "papermill": {
     "duration": 0.023561,
     "end_time": "2024-08-26T18:36:51.407418",
     "exception": false,
     "start_time": "2024-08-26T18:36:51.383857",
     "status": "completed"
    },
    "tags": []
   },
   "outputs": [],
   "source": [
    "@torch.no_grad()\n",
    "def estimate_loss():\n",
    "    out = {}\n",
    "    model.eval()\n",
    "    for split in ['train','val']:\n",
    "        losses = torch.zeros(10,device=device)\n",
    "        for k in range(10):\n",
    "            y = get_batch('train')\n",
    "            x = y.clone()\n",
    "            x = mask(x,mask_prob)\n",
    "            x,loss = model(x,y)\n",
    "            if loss is not None:\n",
    "              losses[k] = loss.item()\n",
    "            else:\n",
    "              k-=1\n",
    "        out[split] = losses.mean()\n",
    "    model.train()\n",
    "\n",
    "    return out"
   ]
  },
  {
   "cell_type": "code",
   "execution_count": 18,
   "id": "33bb69eb",
   "metadata": {
    "execution": {
     "iopub.execute_input": "2024-08-26T18:36:51.433409Z",
     "iopub.status.busy": "2024-08-26T18:36:51.432978Z",
     "iopub.status.idle": "2024-08-26T18:36:51.451172Z",
     "shell.execute_reply": "2024-08-26T18:36:51.449516Z"
    },
    "executionInfo": {
     "elapsed": 17,
     "status": "ok",
     "timestamp": 1724596358753,
     "user": {
      "displayName": "Abhay Upadhyay",
      "userId": "14874663307080467382"
     },
     "user_tz": -330
    },
    "id": "znIwpwCHtMA0",
    "papermill": {
     "duration": 0.034631,
     "end_time": "2024-08-26T18:36:51.454159",
     "exception": false,
     "start_time": "2024-08-26T18:36:51.419528",
     "status": "completed"
    },
    "tags": []
   },
   "outputs": [],
   "source": [
    "class Encoder(nn.Module):\n",
    "  def __init__(self,vocab_size,n_embd,block_size,n_head,n_blocks):\n",
    "    super().__init__()\n",
    "    self.token_embedding = nn.Embedding(vocab_size,n_embd,device=device)\n",
    "    self.pos_embedding = nn.Embedding(block_size,n_embd,device=device)\n",
    "    self.blocks = nn.Sequential(*[Block(n_embd,n_head) for _ in range(n_blocks)])\n",
    "    self.norm = nn.LayerNorm(n_embd,device=device)\n",
    "    self.probs = nn.Linear(n_embd,vocab_size,device=device)\n",
    "    self.apply(self.init_weights_)\n",
    "  def init_weights_(self,module):\n",
    "    if isinstance(module, nn.Linear):\n",
    "        torch.nn.init.normal_(module.weight, mean=0.0, std=0.02)\n",
    "        if module.bias is not None:\n",
    "            torch.nn.init.zeros_(module.bias)\n",
    "    elif isinstance(module, nn.Embedding):\n",
    "        torch.nn.init.normal_(module.weight, mean=0.0, std=0.02)\n",
    "  def forward(self,x,targets=None):\n",
    "    masks = x==mask_token\n",
    "    # # print(x)\n",
    "    x = self.token_embedding(x)+self.pos_embedding(torch.arange(x.shape[-1],device=device))\n",
    "    x = self.blocks(x)\n",
    "    x = self.norm(x)\n",
    "    logits = self.probs(x)\n",
    "    loss = None\n",
    "    if targets is not None: # loss here later\n",
    "      # print(targets,logits)\n",
    "      logits = logits.view(-1,logits.shape[-1])\n",
    "      targets = targets.view(-1)\n",
    "#       loss = nn.functional.cross_entropy(logits,targets)\n",
    "      masks = masks.view(-1)\n",
    "      masked_logits = logits[masks]\n",
    "      masked_targets = targets[masks]\n",
    "\n",
    "      if len(masked_targets) > 0:\n",
    "          loss = nn.functional.cross_entropy(masked_logits, masked_targets)\n",
    "    return x,loss\n",
    "  def generate(self,x):\n",
    "    x = self.token_embedding(x)+self.pos_embedding(torch.arange(x.shape[-1],device=device))\n",
    "    x = self.blocks(x)\n",
    "    x = self.norm(x)\n",
    "    logits = self.probs(x)\n",
    "    res = torch.argmax(logits,dim=2)\n",
    "    return res"
   ]
  },
  {
   "cell_type": "code",
   "execution_count": 19,
   "id": "aaa1cf49",
   "metadata": {
    "execution": {
     "iopub.execute_input": "2024-08-26T18:36:51.480809Z",
     "iopub.status.busy": "2024-08-26T18:36:51.480414Z",
     "iopub.status.idle": "2024-08-26T18:36:51.568293Z",
     "shell.execute_reply": "2024-08-26T18:36:51.567205Z"
    },
    "executionInfo": {
     "elapsed": 16,
     "status": "ok",
     "timestamp": 1724596358753,
     "user": {
      "displayName": "Abhay Upadhyay",
      "userId": "14874663307080467382"
     },
     "user_tz": -330
    },
    "id": "Eg9kFJagR2Iz",
    "outputId": "6ccd80ec-4dfd-490a-d506-73ca1a43e8ff",
    "papermill": {
     "duration": 0.104,
     "end_time": "2024-08-26T18:36:51.570781",
     "exception": false,
     "start_time": "2024-08-26T18:36:51.466781",
     "status": "completed"
    },
    "tags": []
   },
   "outputs": [
    {
     "name": "stdout",
     "output_type": "stream",
     "text": [
      "26852946\n"
     ]
    }
   ],
   "source": [
    "model = Encoder(vocab_size,n_embd,block_size,n_head,n_blocks)\n",
    "print(sum(p.numel() for p in model.parameters()))"
   ]
  },
  {
   "cell_type": "code",
   "execution_count": 20,
   "id": "23aca2d1",
   "metadata": {
    "execution": {
     "iopub.execute_input": "2024-08-26T18:36:51.596302Z",
     "iopub.status.busy": "2024-08-26T18:36:51.595561Z",
     "iopub.status.idle": "2024-08-26T18:36:53.063487Z",
     "shell.execute_reply": "2024-08-26T18:36:53.062378Z"
    },
    "executionInfo": {
     "elapsed": 15,
     "status": "ok",
     "timestamp": 1724596358753,
     "user": {
      "displayName": "Abhay Upadhyay",
      "userId": "14874663307080467382"
     },
     "user_tz": -330
    },
    "id": "VEaAwofXUeSa",
    "papermill": {
     "duration": 1.483766,
     "end_time": "2024-08-26T18:36:53.066257",
     "exception": false,
     "start_time": "2024-08-26T18:36:51.582491",
     "status": "completed"
    },
    "tags": []
   },
   "outputs": [],
   "source": [
    "optimizer = torch.optim.AdamW(model.parameters(),lr)"
   ]
  },
  {
   "cell_type": "code",
   "execution_count": 21,
   "id": "6935f2cb",
   "metadata": {
    "execution": {
     "iopub.execute_input": "2024-08-26T18:36:53.092645Z",
     "iopub.status.busy": "2024-08-26T18:36:53.092101Z",
     "iopub.status.idle": "2024-08-26T23:58:57.686376Z",
     "shell.execute_reply": "2024-08-26T23:58:57.685151Z"
    },
    "id": "riyxZ3kIUyLM",
    "outputId": "c800a5c6-9f3d-4671-b68f-e2fb4bfcc010",
    "papermill": {
     "duration": 19324.611066,
     "end_time": "2024-08-26T23:58:57.689309",
     "exception": false,
     "start_time": "2024-08-26T18:36:53.078243",
     "status": "completed"
    },
    "tags": []
   },
   "outputs": [
    {
     "name": "stdout",
     "output_type": "stream",
     "text": [
      "Loss on step 0: Training loss->10.8743, Validation loss->10.8740\n",
      "Loss on step 500: Training loss->5.0316, Validation loss->5.0021\n",
      "Loss on step 1000: Training loss->4.2377, Validation loss->4.2368\n",
      "Loss on step 1500: Training loss->3.9275, Validation loss->3.9471\n",
      "Loss on step 2000: Training loss->3.7216, Validation loss->3.7925\n",
      "Loss on step 2500: Training loss->3.6405, Validation loss->3.6699\n",
      "Loss on step 3000: Training loss->3.5573, Validation loss->3.5520\n",
      "Loss on step 3500: Training loss->3.4491, Validation loss->3.4527\n",
      "Loss on step 4000: Training loss->3.4472, Validation loss->3.4240\n",
      "Loss on step 4500: Training loss->3.3994, Validation loss->3.3358\n"
     ]
    }
   ],
   "source": [
    "trainloss = []\n",
    "valloss = []\n",
    "for iter in range(max_iters):\n",
    "  model.train()\n",
    "  if iter%eval_interval==0:\n",
    "    losses  = estimate_loss()\n",
    "    trainloss.append(losses['train'])\n",
    "    valloss.append(losses['val'])\n",
    "    print(f\"Loss on step {iter}: Training loss->{losses['train']:.4f}, Validation loss->{losses['val']:.4f}\")\n",
    "  y = get_batch('train')\n",
    "  x = y.clone()\n",
    "  x = mask(x,mask_prob)\n",
    "  x,loss = model(x,y)\n",
    "  if loss is not None:\n",
    "    optimizer.zero_grad(set_to_none=True)\n",
    "    loss.backward()\n",
    "    optimizer.step()\n",
    "torch.save(model.state_dict(),'model.pth')"
   ]
  }
 ],
 "metadata": {
  "accelerator": "GPU",
  "colab": {
   "authorship_tag": "ABX9TyODPn4xWZaTrxi2eenFHOHF",
   "gpuType": "T4",
   "provenance": []
  },
  "kaggle": {
   "accelerator": "gpu",
   "dataSources": [
    {
     "datasetId": 5593107,
     "sourceId": 9245702,
     "sourceType": "datasetVersion"
    }
   ],
   "dockerImageVersionId": 30762,
   "isGpuEnabled": true,
   "isInternetEnabled": true,
   "language": "python",
   "sourceType": "notebook"
  },
  "kernelspec": {
   "display_name": "Python 3",
   "language": "python",
   "name": "python3"
  },
  "language_info": {
   "codemirror_mode": {
    "name": "ipython",
    "version": 3
   },
   "file_extension": ".py",
   "mimetype": "text/x-python",
   "name": "python",
   "nbconvert_exporter": "python",
   "pygments_lexer": "ipython3",
   "version": "3.10.14"
  },
  "papermill": {
   "default_parameters": {},
   "duration": 19405.056567,
   "end_time": "2024-08-26T23:59:02.545262",
   "environment_variables": {},
   "exception": true,
   "input_path": "__notebook__.ipynb",
   "output_path": "__notebook__.ipynb",
   "parameters": {},
   "start_time": "2024-08-26T18:35:37.488695",
   "version": "2.6.0"
  }
 },
 "nbformat": 4,
 "nbformat_minor": 5
}
